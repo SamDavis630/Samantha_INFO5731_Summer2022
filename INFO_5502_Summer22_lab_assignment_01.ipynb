{
  "cells": [
    {
      "cell_type": "markdown",
      "metadata": {
        "id": "view-in-github",
        "colab_type": "text"
      },
      "source": [
        "<a href=\"https://colab.research.google.com/github/SamDavis630/Samantha_INFO5731_Summer2022/blob/main/INFO_5502_Summer22_lab_assignment_01.ipynb\" target=\"_parent\"><img src=\"https://colab.research.google.com/assets/colab-badge.svg\" alt=\"Open In Colab\"/></a>"
      ]
    },
    {
      "cell_type": "markdown",
      "metadata": {
        "id": "DymRJbxDBCnf"
      },
      "source": [
        "# **The first Lab-assignment (07/15/2022 11:59'AM' to 7/19/2022 11:59PM, 50 points in total)**"
      ]
    },
    {
      "cell_type": "markdown",
      "metadata": {
        "id": "jJDe71iLB616"
      },
      "source": [
        "(1) Write a Python program to count the number of characters in a string. (6 points)\n",
        "\n",
        "Sample String : 'google.com', \n",
        "\n",
        "Expected Result : {'o': 3, 'g': 2, '.': 1, 'e': 1, 'l': 1, 'm': 1, 'c': 1}"
      ]
    },
    {
      "cell_type": "code",
      "execution_count": 8,
      "metadata": {
        "colab": {
          "base_uri": "https://localhost:8080/"
        },
        "id": "MtKskTzbCLaU",
        "outputId": "6353d381-97bd-4424-909b-c76ebc26e5fd"
      },
      "outputs": [
        {
          "output_type": "stream",
          "name": "stdout",
          "text": [
            "Counter({'a': 4, 'm': 3, ' ': 3, 'n': 2, 'y': 1, 'e': 1, 'i': 1, 's': 1, 'S': 1, 't': 1, 'h': 1})\n"
          ]
        }
      ],
      "source": [
        "\n",
        "#define x\n",
        "from collections import Counter\n",
        "x = \"my name is Samantha\"\n",
        "# count characters in string from counter\n",
        "collection = Counter(x)\n",
        "# display sum of list\n",
        "print (collection)\n",
        "\n"
      ]
    },
    {
      "cell_type": "markdown",
      "metadata": {
        "id": "55W9AMdXCSpV"
      },
      "source": [
        "(2) Write a Python program to sum all the items in a list. (6 points)"
      ]
    },
    {
      "cell_type": "code",
      "execution_count": 15,
      "metadata": {
        "id": "I57NXsauCec2",
        "colab": {
          "base_uri": "https://localhost:8080/"
        },
        "outputId": "46bb9087-cac5-4285-8767-e327ee94c876"
      },
      "outputs": [
        {
          "output_type": "stream",
          "name": "stdout",
          "text": [
            "30\n"
          ]
        }
      ],
      "source": [
        "# create list \n",
        "list1 = [2,4,6,8,10]\n",
        "# display sum all items in the list\n",
        "print (sum(list1))"
      ]
    },
    {
      "cell_type": "markdown",
      "metadata": {
        "id": "4ulBZ6yhCi9F"
      },
      "source": [
        "(3) Write a Python program to get a string from a given string where all occurrences of its first char have been changed to '\\$', except the first char itself. (6 points)\n",
        "\n",
        "Sample String : 'restart', \n",
        "\n",
        "Expected Result : 'resta\\$t'"
      ]
    },
    {
      "cell_type": "code",
      "execution_count": 94,
      "metadata": {
        "id": "Fj0XhwbBCw2o",
        "colab": {
          "base_uri": "https://localhost:8080/"
        },
        "outputId": "ac0e8175-329b-412f-daa0-a7f3e4bb3936"
      },
      "outputs": [
        {
          "output_type": "stream",
          "name": "stdout",
          "text": [
            "am$nd$\n"
          ]
        }
      ],
      "source": [
        "#create a string\n",
        "string2 = \"amanda\"\n",
        "\n",
        "#Defining \"a\"=$\n",
        "a = \"$\"\n",
        "\n",
        "#replacing all \"a\" except first character\n",
        "string3 = string2[0] + string2 [1:].replace(string2[0],a)\n",
        "\n",
        "#display new string\n",
        "print(string3)"
      ]
    },
    {
      "cell_type": "code",
      "source": [
        ""
      ],
      "metadata": {
        "id": "b1cokhsftV8R"
      },
      "execution_count": null,
      "outputs": []
    },
    {
      "cell_type": "markdown",
      "metadata": {
        "id": "_bIP7s1MCzue"
      },
      "source": [
        "(4) Write a program with python which could accept two parameter a and b to calculate and output the result of S, where \n",
        "\n",
        "$\\ S=3.14*(1+a/b)^3$ (6 points)\n",
        "\n"
      ]
    },
    {
      "cell_type": "code",
      "execution_count": 20,
      "metadata": {
        "id": "w79QilHXD3Mg",
        "colab": {
          "base_uri": "https://localhost:8080/"
        },
        "outputId": "b5e524bc-4e56-4302-ad7c-71f455e2bd91"
      },
      "outputs": [
        {
          "output_type": "stream",
          "name": "stdout",
          "text": [
            "200.96\n"
          ]
        }
      ],
      "source": [
        "#define equation\n",
        "def s_vars(a,b):\n",
        "    s=3.14*(1+a/b)**3\n",
        "    return s\n",
        "\n",
        "#equation inputs\n",
        "solution=s_vars(24,8)\n",
        "\n",
        "#print equation answer\n",
        "print(solution)"
      ]
    },
    {
      "cell_type": "markdown",
      "metadata": {
        "id": "xCa2bK9aD4Q3"
      },
      "source": [
        "(5) Write a Python program to concatenate following dictionaries to create a new one. (6 points)\n",
        "\n",
        "Sample Dictionary : dic1={1:10, 2:20}, dic2={3:30, 4:40}, dic3={5:50,6:60}, \n",
        "\n",
        "Expected Result : {1: 10, 2: 20, 3: 30, 4: 40, 5: 50, 6: 60}\n"
      ]
    },
    {
      "cell_type": "code",
      "execution_count": 72,
      "metadata": {
        "id": "_z4aLqAbEET1",
        "colab": {
          "base_uri": "https://localhost:8080/"
        },
        "outputId": "7ba43975-1587-4c5d-a070-2085e78936f9"
      },
      "outputs": [
        {
          "output_type": "stream",
          "name": "stdout",
          "text": [
            "{'dic1': {'1:10', '2:20'}, 'dic2': {'3:30', '4:40'}, 'dic3': {'6:60', '5:50'}}\n"
          ]
        }
      ],
      "source": [
        "\n",
        "# Create three dictionaries\n",
        "dic1 = {'1:10','2:20'}\n",
        "dic2 = {'3:30','4:40'}\n",
        "dic3 = {'5:50','6:60'}\n",
        "\n",
        "# Concatenate the three dictionaries\n",
        "dic4 = {\"dic1\": dic1,\"dic2\": dic2,\"dic3\":dic3}\n",
        "\n",
        "#Display new dictionary\n",
        "print (dic4)\n",
        "\n",
        "\n",
        "\n"
      ]
    },
    {
      "cell_type": "markdown",
      "metadata": {
        "id": "0v48Vqa7FrQh"
      },
      "source": [
        "(6) Write a Python program to check whether an element exists within a tuple. (6 points)"
      ]
    },
    {
      "cell_type": "code",
      "execution_count": 73,
      "metadata": {
        "id": "7WEmgq-DF2P1",
        "colab": {
          "base_uri": "https://localhost:8080/"
        },
        "outputId": "6785a036-102a-4b13-e627-374159e84f06"
      },
      "outputs": [
        {
          "output_type": "stream",
          "name": "stdout",
          "text": [
            "('student', 'professor', 'grades', 'assignments', 200)\n"
          ]
        }
      ],
      "source": [
        "# Tuple created\n",
        "tuple1 = (\"student\", \"professor\", \"grades\", \"assignments\", 200)\n",
        "\n",
        "#Display elements in tuple1\n",
        "print(tuple1)\n"
      ]
    },
    {
      "cell_type": "markdown",
      "metadata": {
        "id": "vD5PYLMuGga_"
      },
      "source": [
        "(7) Write a Python program to find maximum and the minimum value in a set. (6 points)"
      ]
    },
    {
      "cell_type": "code",
      "execution_count": 76,
      "metadata": {
        "id": "t0D5kdJUGjjw",
        "colab": {
          "base_uri": "https://localhost:8080/"
        },
        "outputId": "08150bcf-7f44-43c1-afdf-8cf409a047c6"
      },
      "outputs": [
        {
          "output_type": "stream",
          "name": "stdout",
          "text": [
            "1000 25\n"
          ]
        }
      ],
      "source": [
        "# Set created\n",
        "set1 = (25,75,125,100,500, 50,1000)\n",
        "\n",
        "#Disply maximum and minimum value\n",
        "print(max(set1), min(set1))\n"
      ]
    },
    {
      "cell_type": "markdown",
      "metadata": {
        "id": "dEQLVIxNxIOd"
      },
      "source": [
        "(8) Write a Python program to find the duplicate elements in a given array of integers. Return -1 If there are no such elements. (8 points)"
      ]
    },
    {
      "cell_type": "code",
      "execution_count": 84,
      "metadata": {
        "id": "yVbRrLdVxIOe",
        "colab": {
          "base_uri": "https://localhost:8080/"
        },
        "outputId": "d4f4ed2c-ec9f-43f6-d629-1d66a7a557c0"
      },
      "outputs": [
        {
          "output_type": "stream",
          "name": "stdout",
          "text": [
            "[44, 73, 44, 73]\n"
          ]
        }
      ],
      "source": [
        "#Array created\n",
        "testscores = [98,65,44,10,93,73,74,92,47,94,50,40,36,7,28,99,44,73]\n",
        "\n",
        "#Identify duplicates\n",
        "dups = [number for number in testscores if testscores.count(number) > 1]\n",
        "unique_dups = list(set(dups))\n",
        "\n",
        "#Display Duplicates\n",
        "print(dups)\n",
        "\n"
      ]
    }
  ],
  "metadata": {
    "colab": {
      "collapsed_sections": [],
      "name": "INFO-5502_Summer22_lab_assignment_01.ipynb",
      "provenance": [],
      "include_colab_link": true
    },
    "kernelspec": {
      "display_name": "Python 3 (ipykernel)",
      "language": "python",
      "name": "python3"
    },
    "language_info": {
      "codemirror_mode": {
        "name": "ipython",
        "version": 3
      },
      "file_extension": ".py",
      "mimetype": "text/x-python",
      "name": "python",
      "nbconvert_exporter": "python",
      "pygments_lexer": "ipython3",
      "version": "3.9.12"
    },
    "vscode": {
      "interpreter": {
        "hash": "5c6a7f839effdddf35473dacbb9a8184e57ebbba5133cab03b12e4f28d4f0d0f"
      }
    }
  },
  "nbformat": 4,
  "nbformat_minor": 0
}